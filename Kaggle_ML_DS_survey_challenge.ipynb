{
 "cells": [
  {
   "cell_type": "markdown",
   "metadata": {},
   "source": [
    "# Assignment 1"
   ]
  },
  {
   "cell_type": "markdown",
   "metadata": {},
   "source": [
    "MIE1624 Introduction to Data Science and Analytics <br>\n",
    "University of Toronto, Faculty of Engineering <br>\n",
    "Author: Lydia Jeong <br>\n",
    "October 12, 2020 <br>"
   ]
  },
  {
   "cell_type": "markdown",
   "metadata": {},
   "source": [
    "### Import packages"
   ]
  },
  {
   "cell_type": "code",
   "execution_count": 2,
   "metadata": {},
   "outputs": [
    {
     "name": "stdout",
     "output_type": "stream",
     "text": [
      "Collecting statsmodels\n",
      "\u001b[?25l  Downloading https://files.pythonhosted.org/packages/00/93/1b6882f92d94e491a3e3be101fc83934551eada261281980f3957246432f/statsmodels-0.12.0-cp36-cp36m-manylinux1_x86_64.whl (9.5MB)\n",
      "\u001b[K     |████████████████████████████████| 9.5MB 5.4MB/s eta 0:00:01     |███▌                            | 1.0MB 5.1MB/s eta 0:00:02     |███████████████████████████████▉| 9.4MB 5.4MB/s eta 0:00:01\n",
      "\u001b[?25hCollecting patsy>=0.5 (from statsmodels)\n",
      "\u001b[?25l  Downloading https://files.pythonhosted.org/packages/ea/0c/5f61f1a3d4385d6bf83b83ea495068857ff8dfb89e74824c6e9eb63286d8/patsy-0.5.1-py2.py3-none-any.whl (231kB)\n",
      "\u001b[K     |████████████████████████████████| 235kB 24.8MB/s eta 0:00:01\n",
      "\u001b[?25hRequirement already satisfied: numpy>=1.15 in /home/jupyterlab/conda/envs/python/lib/python3.6/site-packages (from statsmodels) (1.19.1)\n",
      "Requirement already satisfied: pandas>=0.21 in /home/jupyterlab/conda/envs/python/lib/python3.6/site-packages (from statsmodels) (1.1.2)\n",
      "Requirement already satisfied: scipy>=1.1 in /home/jupyterlab/conda/envs/python/lib/python3.6/site-packages (from statsmodels) (1.5.2)\n",
      "Requirement already satisfied: six in /home/jupyterlab/conda/envs/python/lib/python3.6/site-packages (from patsy>=0.5->statsmodels) (1.15.0)\n",
      "Requirement already satisfied: python-dateutil>=2.7.3 in /home/jupyterlab/conda/envs/python/lib/python3.6/site-packages (from pandas>=0.21->statsmodels) (2.8.1)\n",
      "Requirement already satisfied: pytz>=2017.2 in /home/jupyterlab/conda/envs/python/lib/python3.6/site-packages (from pandas>=0.21->statsmodels) (2020.1)\n",
      "Installing collected packages: patsy, statsmodels\n",
      "Successfully installed patsy-0.5.1 statsmodels-0.12.0\n"
     ]
    }
   ],
   "source": [
    "import pandas as pd\n",
    "import numpy as np\n",
    "import seaborn as sns\n",
    "import matplotlib.pyplot as plt\n",
    "from matplotlib.pyplot import figure\n",
    "try:\n",
    "    import statsmodels.api as sm\n",
    "except:\n",
    "    !pip install statsmodels\n",
    "    import statsmodels.api as sm\n",
    "%matplotlib inline\n",
    "from scipy import stats\n",
    "import math\n",
    "import random\n",
    "import statistics"
   ]
  },
  {
   "cell_type": "markdown",
   "metadata": {},
   "source": [
    "### Print the current version of Python:"
   ]
  },
  {
   "cell_type": "code",
   "execution_count": 3,
   "metadata": {},
   "outputs": [
    {
     "name": "stdout",
     "output_type": "stream",
     "text": [
      "3.6.11 | packaged by conda-forge | (default, Aug  5 2020, 20:09:42) \n",
      "[GCC 7.5.0]\n"
     ]
    }
   ],
   "source": [
    "import sys\n",
    "print(sys.version)"
   ]
  },
  {
   "cell_type": "markdown",
   "metadata": {},
   "source": [
    "## 1 Exploratory data analysis"
   ]
  },
  {
   "cell_type": "markdown",
   "metadata": {},
   "source": [
    "The dataset was obtained from Kaggle: https://www.kaggle.com/c/kaggle-survey-2019/data"
   ]
  },
  {
   "cell_type": "markdown",
   "metadata": {},
   "source": [
    "First, I read the clean version of the csv file and store it as a dataframe, df."
   ]
  },
  {
   "cell_type": "code",
   "execution_count": 4,
   "metadata": {},
   "outputs": [
    {
     "name": "stderr",
     "output_type": "stream",
     "text": [
      "/home/jupyterlab/conda/envs/python/lib/python3.6/site-packages/IPython/core/interactiveshell.py:3072: DtypeWarning: Columns (74,78,115,147,154,172,176,213,225,229,232) have mixed types.Specify dtype option on import or set low_memory=False.\n",
      "  interactivity=interactivity, compiler=compiler, result=result)\n"
     ]
    }
   ],
   "source": [
    "df = pd.read_csv('clean_kaggle_data.csv')"
   ]
  },
  {
   "cell_type": "markdown",
   "metadata": {},
   "source": [
    "The first five rows of the dataset are displayed to visually examine the data and see which columns might be relevant for our analysis."
   ]
  },
  {
   "cell_type": "code",
   "execution_count": 5,
   "metadata": {},
   "outputs": [
    {
     "data": {
      "text/html": [
       "<div>\n",
       "<style scoped>\n",
       "    .dataframe tbody tr th:only-of-type {\n",
       "        vertical-align: middle;\n",
       "    }\n",
       "\n",
       "    .dataframe tbody tr th {\n",
       "        vertical-align: top;\n",
       "    }\n",
       "\n",
       "    .dataframe thead th {\n",
       "        text-align: right;\n",
       "    }\n",
       "</style>\n",
       "<table border=\"1\" class=\"dataframe\">\n",
       "  <thead>\n",
       "    <tr style=\"text-align: right;\">\n",
       "      <th></th>\n",
       "      <th>Unnamed: 0</th>\n",
       "      <th>Time from Start to Finish (seconds)</th>\n",
       "      <th>Q1</th>\n",
       "      <th>Q2</th>\n",
       "      <th>Q2_OTHER_TEXT</th>\n",
       "      <th>Q3</th>\n",
       "      <th>Q4</th>\n",
       "      <th>Q5</th>\n",
       "      <th>Q5_OTHER_TEXT</th>\n",
       "      <th>Q6</th>\n",
       "      <th>...</th>\n",
       "      <th>Q34_Part_4</th>\n",
       "      <th>Q34_Part_5</th>\n",
       "      <th>Q34_Part_6</th>\n",
       "      <th>Q34_Part_7</th>\n",
       "      <th>Q34_Part_8</th>\n",
       "      <th>Q34_Part_9</th>\n",
       "      <th>Q34_Part_10</th>\n",
       "      <th>Q34_Part_11</th>\n",
       "      <th>Q34_Part_12</th>\n",
       "      <th>Q34_OTHER_TEXT</th>\n",
       "    </tr>\n",
       "  </thead>\n",
       "  <tbody>\n",
       "    <tr>\n",
       "      <th>0</th>\n",
       "      <td>0</td>\n",
       "      <td>510</td>\n",
       "      <td>22-24</td>\n",
       "      <td>Male</td>\n",
       "      <td>-1</td>\n",
       "      <td>France</td>\n",
       "      <td>Master’s degree</td>\n",
       "      <td>Software Engineer</td>\n",
       "      <td>-1</td>\n",
       "      <td>1000-9,999 employees</td>\n",
       "      <td>...</td>\n",
       "      <td>NaN</td>\n",
       "      <td>NaN</td>\n",
       "      <td>NaN</td>\n",
       "      <td>NaN</td>\n",
       "      <td>NaN</td>\n",
       "      <td>NaN</td>\n",
       "      <td>NaN</td>\n",
       "      <td>NaN</td>\n",
       "      <td>NaN</td>\n",
       "      <td>-1</td>\n",
       "    </tr>\n",
       "    <tr>\n",
       "      <th>1</th>\n",
       "      <td>1</td>\n",
       "      <td>423</td>\n",
       "      <td>40-44</td>\n",
       "      <td>Male</td>\n",
       "      <td>-1</td>\n",
       "      <td>India</td>\n",
       "      <td>Professional degree</td>\n",
       "      <td>Software Engineer</td>\n",
       "      <td>-1</td>\n",
       "      <td>&gt; 10,000 employees</td>\n",
       "      <td>...</td>\n",
       "      <td>NaN</td>\n",
       "      <td>NaN</td>\n",
       "      <td>NaN</td>\n",
       "      <td>NaN</td>\n",
       "      <td>NaN</td>\n",
       "      <td>NaN</td>\n",
       "      <td>NaN</td>\n",
       "      <td>NaN</td>\n",
       "      <td>NaN</td>\n",
       "      <td>-1</td>\n",
       "    </tr>\n",
       "    <tr>\n",
       "      <th>2</th>\n",
       "      <td>3</td>\n",
       "      <td>391</td>\n",
       "      <td>40-44</td>\n",
       "      <td>Male</td>\n",
       "      <td>-1</td>\n",
       "      <td>Australia</td>\n",
       "      <td>Master’s degree</td>\n",
       "      <td>Other</td>\n",
       "      <td>0</td>\n",
       "      <td>&gt; 10,000 employees</td>\n",
       "      <td>...</td>\n",
       "      <td>NaN</td>\n",
       "      <td>NaN</td>\n",
       "      <td>NaN</td>\n",
       "      <td>NaN</td>\n",
       "      <td>NaN</td>\n",
       "      <td>Azure SQL Database</td>\n",
       "      <td>NaN</td>\n",
       "      <td>NaN</td>\n",
       "      <td>NaN</td>\n",
       "      <td>-1</td>\n",
       "    </tr>\n",
       "    <tr>\n",
       "      <th>3</th>\n",
       "      <td>4</td>\n",
       "      <td>392</td>\n",
       "      <td>22-24</td>\n",
       "      <td>Male</td>\n",
       "      <td>-1</td>\n",
       "      <td>India</td>\n",
       "      <td>Bachelor’s degree</td>\n",
       "      <td>Other</td>\n",
       "      <td>1</td>\n",
       "      <td>0-49 employees</td>\n",
       "      <td>...</td>\n",
       "      <td>NaN</td>\n",
       "      <td>NaN</td>\n",
       "      <td>NaN</td>\n",
       "      <td>NaN</td>\n",
       "      <td>NaN</td>\n",
       "      <td>NaN</td>\n",
       "      <td>NaN</td>\n",
       "      <td>NaN</td>\n",
       "      <td>NaN</td>\n",
       "      <td>-1</td>\n",
       "    </tr>\n",
       "    <tr>\n",
       "      <th>4</th>\n",
       "      <td>5</td>\n",
       "      <td>470</td>\n",
       "      <td>50-54</td>\n",
       "      <td>Male</td>\n",
       "      <td>-1</td>\n",
       "      <td>France</td>\n",
       "      <td>Master’s degree</td>\n",
       "      <td>Data Scientist</td>\n",
       "      <td>-1</td>\n",
       "      <td>0-49 employees</td>\n",
       "      <td>...</td>\n",
       "      <td>NaN</td>\n",
       "      <td>NaN</td>\n",
       "      <td>NaN</td>\n",
       "      <td>AWS Relational Database Service</td>\n",
       "      <td>NaN</td>\n",
       "      <td>NaN</td>\n",
       "      <td>NaN</td>\n",
       "      <td>NaN</td>\n",
       "      <td>NaN</td>\n",
       "      <td>-1</td>\n",
       "    </tr>\n",
       "  </tbody>\n",
       "</table>\n",
       "<p>5 rows × 247 columns</p>\n",
       "</div>"
      ],
      "text/plain": [
       "   Unnamed: 0  Time from Start to Finish (seconds)     Q1    Q2  \\\n",
       "0           0                                  510  22-24  Male   \n",
       "1           1                                  423  40-44  Male   \n",
       "2           3                                  391  40-44  Male   \n",
       "3           4                                  392  22-24  Male   \n",
       "4           5                                  470  50-54  Male   \n",
       "\n",
       "   Q2_OTHER_TEXT         Q3                   Q4                 Q5  \\\n",
       "0             -1     France      Master’s degree  Software Engineer   \n",
       "1             -1      India  Professional degree  Software Engineer   \n",
       "2             -1  Australia      Master’s degree              Other   \n",
       "3             -1      India    Bachelor’s degree              Other   \n",
       "4             -1     France      Master’s degree     Data Scientist   \n",
       "\n",
       "   Q5_OTHER_TEXT                    Q6  ... Q34_Part_4 Q34_Part_5 Q34_Part_6  \\\n",
       "0             -1  1000-9,999 employees  ...        NaN        NaN        NaN   \n",
       "1             -1    > 10,000 employees  ...        NaN        NaN        NaN   \n",
       "2              0    > 10,000 employees  ...        NaN        NaN        NaN   \n",
       "3              1        0-49 employees  ...        NaN        NaN        NaN   \n",
       "4             -1        0-49 employees  ...        NaN        NaN        NaN   \n",
       "\n",
       "                        Q34_Part_7 Q34_Part_8          Q34_Part_9 Q34_Part_10  \\\n",
       "0                              NaN        NaN                 NaN         NaN   \n",
       "1                              NaN        NaN                 NaN         NaN   \n",
       "2                              NaN        NaN  Azure SQL Database         NaN   \n",
       "3                              NaN        NaN                 NaN         NaN   \n",
       "4  AWS Relational Database Service        NaN                 NaN         NaN   \n",
       "\n",
       "  Q34_Part_11 Q34_Part_12 Q34_OTHER_TEXT  \n",
       "0         NaN         NaN             -1  \n",
       "1         NaN         NaN             -1  \n",
       "2         NaN         NaN             -1  \n",
       "3         NaN         NaN             -1  \n",
       "4         NaN         NaN             -1  \n",
       "\n",
       "[5 rows x 247 columns]"
      ]
     },
     "execution_count": 5,
     "metadata": {},
     "output_type": "execute_result"
    }
   ],
   "source": [
    "df.head()"
   ]
  },
  {
   "cell_type": "markdown",
   "metadata": {},
   "source": [
    "Display the number of rows and columns in the data"
   ]
  },
  {
   "cell_type": "code",
   "execution_count": 6,
   "metadata": {},
   "outputs": [
    {
     "data": {
      "text/plain": [
       "(12497, 247)"
      ]
     },
     "execution_count": 6,
     "metadata": {},
     "output_type": "execute_result"
    }
   ],
   "source": [
    "df.shape"
   ]
  },
  {
   "cell_type": "markdown",
   "metadata": {},
   "source": [
    "Display the column names"
   ]
  },
  {
   "cell_type": "code",
   "execution_count": 7,
   "metadata": {},
   "outputs": [
    {
     "data": {
      "text/plain": [
       "Index(['Unnamed: 0', 'Time from Start to Finish (seconds)', 'Q1', 'Q2',\n",
       "       'Q2_OTHER_TEXT', 'Q3', 'Q4', 'Q5', 'Q5_OTHER_TEXT', 'Q6',\n",
       "       ...\n",
       "       'Q34_Part_4', 'Q34_Part_5', 'Q34_Part_6', 'Q34_Part_7', 'Q34_Part_8',\n",
       "       'Q34_Part_9', 'Q34_Part_10', 'Q34_Part_11', 'Q34_Part_12',\n",
       "       'Q34_OTHER_TEXT'],\n",
       "      dtype='object', length=247)"
      ]
     },
     "execution_count": 7,
     "metadata": {},
     "output_type": "execute_result"
    }
   ],
   "source": [
    "df.columns"
   ]
  },
  {
   "cell_type": "markdown",
   "metadata": {},
   "source": [
    "From examining the dataset, it is apparent that the columns Q1, Q2, Q3, Q4, Q10, Q15, and Q23 contains the only relevant data for analysis, therefore, I have kept these columns and renamed them to appropriate names as shown in the table below:"
   ]
  },
  {
   "cell_type": "markdown",
   "metadata": {},
   "source": [
    "| Q# | Question                                                                                                        | Renamed column |\n",
    "|----|-----------------------------------------------------------------------------------------------------------------|---------------------|\n",
    "| Q1  | What is your age (# years)?                                                                                     | **age**                |\n",
    "| Q2  | What is your gender?                                                                                            | **gender**              |\n",
    "| Q3  | In which country do you currently reside?                                                                       | **country**             |\n",
    "| Q4  | What is the highest level of formal education that you have attained or plan to attain within the next 2 years? | **education**     |\n",
    "| Q10 | What is your current yearly compensation (USD)?                                                                        | **salary** |\n",
    "| Q15 | How long have you been writing code to analyze data (at work or at school)?                                     | **coding_experience**   |\n",
    "| Q23 | For how many years have you used machine learning methods?                                                      | **ML_experience**|       |"
   ]
  },
  {
   "cell_type": "code",
   "execution_count": 8,
   "metadata": {},
   "outputs": [],
   "source": [
    "# Filter only the relevant columns and rename them.\n",
    "df = df[['Q1', 'Q2', 'Q3', 'Q4', 'Q10', 'Q15','Q23']]\n",
    "df.columns = ['age', 'gender', 'country', 'education', 'salary', 'coding_experience', 'ML_experience']"
   ]
  },
  {
   "cell_type": "code",
   "execution_count": 9,
   "metadata": {},
   "outputs": [
    {
     "data": {
      "text/html": [
       "<div>\n",
       "<style scoped>\n",
       "    .dataframe tbody tr th:only-of-type {\n",
       "        vertical-align: middle;\n",
       "    }\n",
       "\n",
       "    .dataframe tbody tr th {\n",
       "        vertical-align: top;\n",
       "    }\n",
       "\n",
       "    .dataframe thead th {\n",
       "        text-align: right;\n",
       "    }\n",
       "</style>\n",
       "<table border=\"1\" class=\"dataframe\">\n",
       "  <thead>\n",
       "    <tr style=\"text-align: right;\">\n",
       "      <th></th>\n",
       "      <th>age</th>\n",
       "      <th>gender</th>\n",
       "      <th>country</th>\n",
       "      <th>education</th>\n",
       "      <th>salary</th>\n",
       "      <th>coding_experience</th>\n",
       "      <th>ML_experience</th>\n",
       "    </tr>\n",
       "  </thead>\n",
       "  <tbody>\n",
       "    <tr>\n",
       "      <th>0</th>\n",
       "      <td>22-24</td>\n",
       "      <td>Male</td>\n",
       "      <td>France</td>\n",
       "      <td>Master’s degree</td>\n",
       "      <td>40000</td>\n",
       "      <td>1-2 years</td>\n",
       "      <td>1-2 years</td>\n",
       "    </tr>\n",
       "    <tr>\n",
       "      <th>1</th>\n",
       "      <td>40-44</td>\n",
       "      <td>Male</td>\n",
       "      <td>India</td>\n",
       "      <td>Professional degree</td>\n",
       "      <td>7500</td>\n",
       "      <td>I have never written code</td>\n",
       "      <td>NaN</td>\n",
       "    </tr>\n",
       "    <tr>\n",
       "      <th>2</th>\n",
       "      <td>40-44</td>\n",
       "      <td>Male</td>\n",
       "      <td>Australia</td>\n",
       "      <td>Master’s degree</td>\n",
       "      <td>300000</td>\n",
       "      <td>1-2 years</td>\n",
       "      <td>2-3 years</td>\n",
       "    </tr>\n",
       "    <tr>\n",
       "      <th>3</th>\n",
       "      <td>22-24</td>\n",
       "      <td>Male</td>\n",
       "      <td>India</td>\n",
       "      <td>Bachelor’s degree</td>\n",
       "      <td>5000</td>\n",
       "      <td>&lt; 1 years</td>\n",
       "      <td>&lt; 1 years</td>\n",
       "    </tr>\n",
       "    <tr>\n",
       "      <th>4</th>\n",
       "      <td>50-54</td>\n",
       "      <td>Male</td>\n",
       "      <td>France</td>\n",
       "      <td>Master’s degree</td>\n",
       "      <td>70000</td>\n",
       "      <td>20+ years</td>\n",
       "      <td>10-15 years</td>\n",
       "    </tr>\n",
       "  </tbody>\n",
       "</table>\n",
       "</div>"
      ],
      "text/plain": [
       "     age gender    country            education  salary  \\\n",
       "0  22-24   Male     France      Master’s degree   40000   \n",
       "1  40-44   Male      India  Professional degree    7500   \n",
       "2  40-44   Male  Australia      Master’s degree  300000   \n",
       "3  22-24   Male      India    Bachelor’s degree    5000   \n",
       "4  50-54   Male     France      Master’s degree   70000   \n",
       "\n",
       "           coding_experience ML_experience  \n",
       "0                  1-2 years     1-2 years  \n",
       "1  I have never written code           NaN  \n",
       "2                  1-2 years     2-3 years  \n",
       "3                  < 1 years     < 1 years  \n",
       "4                  20+ years   10-15 years  "
      ]
     },
     "execution_count": 9,
     "metadata": {},
     "output_type": "execute_result"
    }
   ],
   "source": [
    "# Diaplay first 5 rows of the new dataframe.\n",
    "df.head()"
   ]
  },
  {
   "cell_type": "markdown",
   "metadata": {},
   "source": [
    "For the exploratory data analysis, I would like to examine the trend in the data that specifically relates to the effect of gender and education on the income level. I have plotted three figures for the following characteristics:\n",
    "1. Salary by education level and gender.\n",
    "2. Salary by professional experience and gender (machine learning experience was considered as professional experience).\n",
    "3. Salary by gender in different countries."
   ]
  },
  {
   "cell_type": "markdown",
   "metadata": {},
   "source": [
    "### 1.1 Salary by education level and gender."
   ]
  },
  {
   "cell_type": "markdown",
   "metadata": {},
   "source": [
    "It is important to determine what groups are present in the 'gender' and 'education' column and the sample size for each group. By using .value_counts() function, We can see that there are four categories in the 'gender' column as shown below. A relatively small number of samples belong to group 'Prefer not to say' and 'Prefer to self-describe'. Since I am interested comparing the salary between males and females, it makes sense to keep only these groups and drop the rest."
   ]
  },
  {
   "cell_type": "code",
   "execution_count": 10,
   "metadata": {},
   "outputs": [
    {
     "data": {
      "text/plain": [
       "Male                       10473\n",
       "Female                      1827\n",
       "Prefer not to say            167\n",
       "Prefer to self-describe       30\n",
       "Name: gender, dtype: int64"
      ]
     },
     "execution_count": 10,
     "metadata": {},
     "output_type": "execute_result"
    }
   ],
   "source": [
    "df['gender'].value_counts()"
   ]
  },
  {
   "cell_type": "code",
   "execution_count": 11,
   "metadata": {},
   "outputs": [
    {
     "data": {
      "text/plain": [
       "Male      10473\n",
       "Female     1827\n",
       "Name: gender, dtype: int64"
      ]
     },
     "execution_count": 11,
     "metadata": {},
     "output_type": "execute_result"
    }
   ],
   "source": [
    "# Keep only the groups that are 'Male' or 'Female'\n",
    "df = df[(df['gender'] == 'Female') | (df['gender'] == 'Male')]\n",
    "df['gender'].value_counts()"
   ]
  },
  {
   "cell_type": "markdown",
   "metadata": {},
   "source": [
    "For the 'education' column, there are seven groups. I have dropped these following four groups due to its relatively small sample size: \"No formal education past high school\", \"I prefer not to answer\", \"Professional degree\", and \"Some college/university study without earning a bachelor’s degree\"."
   ]
  },
  {
   "cell_type": "code",
   "execution_count": 12,
   "metadata": {},
   "outputs": [
    {
     "data": {
      "text/plain": [
       "Master’s degree                                                      5794\n",
       "Bachelor’s degree                                                    3321\n",
       "Doctoral degree                                                      2042\n",
       "Professional degree                                                   456\n",
       "Some college/university study without earning a bachelor’s degree     401\n",
       "I prefer not to answer                                                165\n",
       "No formal education past high school                                  121\n",
       "Name: education, dtype: int64"
      ]
     },
     "execution_count": 12,
     "metadata": {},
     "output_type": "execute_result"
    }
   ],
   "source": [
    "df['education'].value_counts()"
   ]
  },
  {
   "cell_type": "code",
   "execution_count": 13,
   "metadata": {},
   "outputs": [],
   "source": [
    "# Keep only the columns \"Master's degree\", \"Bachelor's degree\", and \"Doctoral degree\"\n",
    "df = df[(df['education'] == \"Master’s degree\") | (df['education'] == \"Bachelor’s degree\") | (df['education'] == \"Doctoral degree\")]"
   ]
  },
  {
   "cell_type": "markdown",
   "metadata": {},
   "source": [
    "Plot the figure displaying the average salary of males and females by the education level."
   ]
  },
  {
   "cell_type": "code",
   "execution_count": 14,
   "metadata": {},
   "outputs": [
    {
     "data": {
      "text/plain": [
       "(array([0, 1, 2]),\n",
       " [Text(0, 0, 'Bachelor’s degree'),\n",
       "  Text(1, 0, 'Master’s degree'),\n",
       "  Text(2, 0, 'Doctoral degree')])"
      ]
     },
     "execution_count": 14,
     "metadata": {},
     "output_type": "execute_result"
    },
    {
     "data": {
      "image/png": "[encoded data removed]",
      "text/plain": [
       "<Figure size 720x504 with 1 Axes>"
      ]
     },
     "metadata": {
      "needs_background": "light"
     },
     "output_type": "display_data"
    }
   ],
   "source": [
    "plt.figure(figsize=(10,7))\n",
    "\n",
    "# group values by education level\n",
    "groupedvalues=df.groupby('education').mean().reset_index()\n",
    "\n",
    "# make a bar plot and sort bars in ascending order\n",
    "plot = sns.barplot(x='education', y='salary', hue='gender', data=df,\n",
    "           order=groupedvalues.sort_values('salary').education)\n",
    "for p in plot.patches:\n",
    "    plot.annotate('{0:,.0f}'.format(p.get_height()),\n",
    "                 (p.get_x() + p.get_width() / 2., p.get_height()), \n",
    "                  ha = 'center', va = 'center',\n",
    "                  xytext = (18, 20), \n",
    "                  textcoords = 'offset points', rotation=60)\n",
    "\n",
    "# set labels\n",
    "plt.xlabel(\"Education\", size=15)\n",
    "plt.ylabel(\"Salary in $USD\", size=15)\n",
    "plt.title(\"Average salary of males vs. females by education level\", size =18)\n",
    "plt.tight_layout()\n",
    "plt.xticks(rotation=70)"
   ]
  },
  {
   "cell_type": "markdown",
   "metadata": {},
   "source": [
    "From the generated barplot, it is noticeable that the mean salary tend to increase as the level of education increases from Bachelor's to Doctoral degree. In addition, men tend to earn higher salary than women regardless of their level of education. The mean salary between males and females by their education is below: <br>\n",
    "\n",
    "| Education          | Males    | Females |\n",
    "|--------------------|----------|---------|\n",
    "| Bachelor's degree  | 46,561   | 33,199  |\n",
    "| Master's degree    | 60,268   | 49,244  |\n",
    "| Doctoral degree    | 79,110   | 59,155  |"
   ]
  },
  {
   "cell_type": "markdown",
   "metadata": {},
   "source": [
    "### 1.2 Salary by professional experience and gender (machine learning experience was considered as a professional experience)"
   ]
  },
  {
   "cell_type": "markdown",
   "metadata": {},
   "source": [
    "For this analysis, we are interested in looking at the columns 'ML_experience' and 'gender'. I have displayed the groups or levels present in the 'ML_experience' column to see the sample size in each group. It appears that the majority of people have less than three years of experience using machine learning methods and very few have more than 20 years of experience."
   ]
  },
  {
   "cell_type": "code",
   "execution_count": 15,
   "metadata": {},
   "outputs": [
    {
     "data": {
      "text/plain": [
       "< 1 years      2698\n",
       "1-2 years      2450\n",
       "2-3 years      1420\n",
       "3-4 years       891\n",
       "4-5 years       810\n",
       "5-10 years      767\n",
       "10-15 years     301\n",
       "20+ years       165\n",
       "Name: ML_experience, dtype: int64"
      ]
     },
     "execution_count": 15,
     "metadata": {},
     "output_type": "execute_result"
    }
   ],
   "source": [
    "df.ML_experience.value_counts()"
   ]
  },
  {
   "cell_type": "markdown",
   "metadata": {},
   "source": [
    "Plot the figure displaying the average salary of males and females by the professional experience."
   ]
  },
  {
   "cell_type": "code",
   "execution_count": 16,
   "metadata": {},
   "outputs": [
    {
     "data": {
      "text/plain": [
       "(array([0, 1, 2, 3, 4, 5, 6, 7]),\n",
       " [Text(0, 0, '< 1 years'),\n",
       "  Text(1, 0, '1-2 years'),\n",
       "  Text(2, 0, '2-3 years'),\n",
       "  Text(3, 0, '3-4 years'),\n",
       "  Text(4, 0, '4-5 years'),\n",
       "  Text(5, 0, '5-10 years'),\n",
       "  Text(6, 0, '10-15 years'),\n",
       "  Text(7, 0, '20+ years')])"
      ]
     },
     "execution_count": 16,
     "metadata": {},
     "output_type": "execute_result"
    },
    {
     "data": {
      "image/png": "[encoded data removed]",
      "text/plain": [
       "<Figure size 720x504 with 1 Axes>"
      ]
     },
     "metadata": {
      "needs_background": "light"
     },
     "output_type": "display_data"
    }
   ],
   "source": [
    "plt.figure(figsize=(10,7))\n",
    "\n",
    "# group values by professional experience\n",
    "groupedvalues=df.groupby('ML_experience').count().reset_index()\n",
    "\n",
    "# make a bar plot and sort bars\n",
    "plot = sns.barplot(x='ML_experience', y='salary', hue='gender', data=df,\n",
    "           order=groupedvalues.sort_values('salary', ascending = False).ML_experience)\n",
    "for p in plot.patches:\n",
    "    plot.annotate('{0:,.0f}'.format(p.get_height()),\n",
    "                 (p.get_x() + p.get_width() / 2., p.get_height()), \n",
    "                  ha = 'center', va = 'center',\n",
    "                  xytext = (18, 20), \n",
    "                  textcoords = 'offset points', rotation=60)\n",
    "\n",
    "# set labels\n",
    "plt.xlabel(\"Professional experience\", size=15)\n",
    "plt.ylabel(\"Salary in $USD\", size=15)\n",
    "plt.title(\"Average salary of males vs. females by professional experience\", size =18)\n",
    "plt.tight_layout()\n",
    "plt.xticks(rotation=70)"
   ]
  },
  {
   "cell_type": "markdown",
   "metadata": {},
   "source": [
    "The mean salary between males and females differed again, with males earning more than the females. The salary generally tended to increase with more years of professional experience, however, there are two interesting observations to note. First is that for people with 10-15 years of machine learning experience, surprisingly females earned more than males on average (their average salary was \\\\$133,231 vs. \\$118,174 respectively). However, females in this group had higher variability as shown in the longer standard deviation line. The second interesting phenomenon was that for the group with 20+ experience, women earned significantly less income compared to the group that had less experience, as well as their male counterparts."
   ]
  },
  {
   "cell_type": "markdown",
   "metadata": {},
   "source": [
    "### 1.3 Salary by countries and gender"
   ]
  },
  {
   "cell_type": "markdown",
   "metadata": {},
   "source": [
    "Since the 'country' column has 59 different countries, it is too much to show all the countries into one figure. Therefore, I decided to only include the top 15 countries that participated the most in this survey, i.e. countries with the largest sample size."
   ]
  },
  {
   "cell_type": "code",
   "execution_count": 17,
   "metadata": {},
   "outputs": [
    {
     "data": {
      "text/plain": [
       "59"
      ]
     },
     "execution_count": 17,
     "metadata": {},
     "output_type": "execute_result"
    }
   ],
   "source": [
    "# See how many countries are present in the 'country' column\n",
    "len(df['country'].value_counts())"
   ]
  },
  {
   "cell_type": "code",
   "execution_count": 18,
   "metadata": {},
   "outputs": [
    {
     "name": "stdout",
     "output_type": "stream",
     "text": [
      "['India', 'United States of America', 'Other', 'Brazil', 'Japan', 'Russia', 'Germany', 'United Kingdom of Great Britain and Northern Ireland', 'Spain', 'France', 'Canada', 'China', 'Nigeria', 'Australia', 'Italy']\n"
     ]
    }
   ],
   "source": [
    "# get top 15 countries with the largest sample\n",
    "top_15 = df['country'].value_counts()[:15].reset_index()\n",
    "top_15 = top_15['index'].to_list()\n",
    "print(top_15)"
   ]
  },
  {
   "cell_type": "code",
   "execution_count": 19,
   "metadata": {},
   "outputs": [],
   "source": [
    "# Filter rows where the country name is in these top 15 country list.\n",
    "df.set_index('country', inplace=True)\n",
    "df_top15 = df.loc[top_15]\n",
    "\n",
    "df_top15.reset_index(inplace=True)"
   ]
  },
  {
   "cell_type": "markdown",
   "metadata": {},
   "source": [
    "Plot the figure displaying the average salary of males and females by country."
   ]
  },
  {
   "cell_type": "code",
   "execution_count": 20,
   "metadata": {},
   "outputs": [
    {
     "data": {
      "image/png": "[encoded data removed]",
      "text/plain": [
       "<Figure size 1440x1080 with 1 Axes>"
      ]
     },
     "metadata": {
      "needs_background": "light"
     },
     "output_type": "display_data"
    }
   ],
   "source": [
    "plt.figure(figsize=(20,15))\n",
    "\n",
    "# group values by country experience\n",
    "groupedvalues=df_top15.groupby('country').count().reset_index()\n",
    "\n",
    "# sort the country by highest to lowest mean salary\n",
    "df_top_15_salary = df_top15.groupby('country').mean().sort_values(by=['salary'], ascending=False)\n",
    "df_top_15_salary.reset_index(inplace=True)\n",
    "ordered = df_top_15_salary['country'].tolist()\n",
    "\n",
    "# make a bar plot and sort bars\n",
    "plot = sns.barplot(x='salary', y='country', hue='gender', data=df_top15, order=ordered)\n",
    "\n",
    "# set labels\n",
    "plt.xlabel(\"Salary in $USD\", size=15)\n",
    "plt.ylabel(\"Country\", size=15)\n",
    "plt.title(\"Average salary by gender in different countries\", size =18)\n",
    "plt.tight_layout()"
   ]
  },
  {
   "cell_type": "markdown",
   "metadata": {},
   "source": [
    "For this graph, it is evident that people from U.S.A have the highest salary, followed by Australia, U.K., and Canada. It appears that the mean salary is higher for males than females for all the countries except for Nigeria. It is interesting to see that females actually earn more than males in this country, although females have an extremely high variability as shown in the high standard error."
   ]
  },
  {
   "cell_type": "markdown",
   "metadata": {},
   "source": [
    "## 2 Estimating the difference between average salary of males vs. females"
   ]
  },
  {
   "cell_type": "markdown",
   "metadata": {},
   "source": [
    "### 2a) Descriptive statistics for each group (males and females)"
   ]
  },
  {
   "cell_type": "markdown",
   "metadata": {},
   "source": [
    "To estimate the salary difference between males and females, I first filtered the relevant columns, 'gender' and 'salary' and named this dataframe df_gender. Then I checked to see if there were any missing values in these columns. Any missing data should be removed because it can lower the statistical power. There were no missing data present in this dataframe. Subsequently, I separated the female and male data into separate dataframes, df_female and df_male to compute the descriptive statistics for each group separately."
   ]
  },
  {
   "cell_type": "code",
   "execution_count": 21,
   "metadata": {},
   "outputs": [
    {
     "data": {
      "text/html": [
       "<div>\n",
       "<style scoped>\n",
       "    .dataframe tbody tr th:only-of-type {\n",
       "        vertical-align: middle;\n",
       "    }\n",
       "\n",
       "    .dataframe tbody tr th {\n",
       "        vertical-align: top;\n",
       "    }\n",
       "\n",
       "    .dataframe thead th {\n",
       "        text-align: right;\n",
       "    }\n",
       "</style>\n",
       "<table border=\"1\" class=\"dataframe\">\n",
       "  <thead>\n",
       "    <tr style=\"text-align: right;\">\n",
       "      <th></th>\n",
       "      <th>gender</th>\n",
       "      <th>salary</th>\n",
       "    </tr>\n",
       "    <tr>\n",
       "      <th>country</th>\n",
       "      <th></th>\n",
       "      <th></th>\n",
       "    </tr>\n",
       "  </thead>\n",
       "  <tbody>\n",
       "    <tr>\n",
       "      <th>France</th>\n",
       "      <td>Male</td>\n",
       "      <td>40000</td>\n",
       "    </tr>\n",
       "    <tr>\n",
       "      <th>Australia</th>\n",
       "      <td>Male</td>\n",
       "      <td>300000</td>\n",
       "    </tr>\n",
       "    <tr>\n",
       "      <th>India</th>\n",
       "      <td>Male</td>\n",
       "      <td>5000</td>\n",
       "    </tr>\n",
       "    <tr>\n",
       "      <th>France</th>\n",
       "      <td>Male</td>\n",
       "      <td>70000</td>\n",
       "    </tr>\n",
       "    <tr>\n",
       "      <th>India</th>\n",
       "      <td>Male</td>\n",
       "      <td>15000</td>\n",
       "    </tr>\n",
       "  </tbody>\n",
       "</table>\n",
       "</div>"
      ],
      "text/plain": [
       "          gender  salary\n",
       "country                 \n",
       "France      Male   40000\n",
       "Australia   Male  300000\n",
       "India       Male    5000\n",
       "France      Male   70000\n",
       "India       Male   15000"
      ]
     },
     "execution_count": 21,
     "metadata": {},
     "output_type": "execute_result"
    }
   ],
   "source": [
    "# Extract only the gender and salary column since they are the relevant columns for our analysis in this section.\n",
    "\n",
    "df_gender = df[['gender', 'salary']]\n",
    "df_gender.head() # Display the first 5 rows."
   ]
  },
  {
   "cell_type": "code",
   "execution_count": 22,
   "metadata": {},
   "outputs": [
    {
     "name": "stdout",
     "output_type": "stream",
     "text": [
      "False\n",
      "False\n"
     ]
    }
   ],
   "source": [
    "# Check to see if there are any missing values in 'gender' and 'salary' columns. If there are no missing\n",
    "#values, then the output will be False. As shown in the output, there are no missing values.\n",
    "\n",
    "print(True in df['salary'].isna())\n",
    "print(True in df['gender'].isna())"
   ]
  },
  {
   "cell_type": "code",
   "execution_count": 23,
   "metadata": {},
   "outputs": [],
   "source": [
    "# Separate female and male data\n",
    "df_female = df_gender[df_gender['gender'] == 'Female']\n",
    "df_male = df_gender[df_gender['gender'] == 'Male']\n",
    "\n",
    "# Drop the 'gender' column\n",
    "df_female = df_female.drop(['gender'], axis=1)\n",
    "df_male = df_male.drop(['gender'], axis=1)"
   ]
  },
  {
   "cell_type": "markdown",
   "metadata": {},
   "source": [
    "I visualized the frequency distribution of both groups to check whether the distribution is normal shape or skewed. It is evident that the distribution for both males and females are not normal (it is positvely skewed). Therefore, it is more appropriate to report the median salary instead of the mean."
   ]
  },
  {
   "cell_type": "code",
   "execution_count": 24,
   "metadata": {},
   "outputs": [
    {
     "data": {
      "image/png": "[encoded data removed]",
      "text/plain": [
       "<Figure size 576x360 with 1 Axes>"
      ]
     },
     "metadata": {
      "needs_background": "light"
     },
     "output_type": "display_data"
    }
   ],
   "source": [
    "# Display the frequency distribution for females.\n",
    "df_female['salary'].plot(kind='hist', figsize = (8, 5))\n",
    "plt.title('Distribution of salary for Females')\n",
    "plt.ylabel('Frequency')\n",
    "plt.xlabel('Salary')\n",
    "plt.show()"
   ]
  },
  {
   "cell_type": "code",
   "execution_count": 25,
   "metadata": {},
   "outputs": [
    {
     "data": {
      "image/png": "[encoded data removed]",
      "text/plain": [
       "<Figure size 576x360 with 1 Axes>"
      ]
     },
     "metadata": {
      "needs_background": "light"
     },
     "output_type": "display_data"
    }
   ],
   "source": [
    "# Display the frequency distribution for males.\n",
    "df_male['salary'].plot(kind='hist', figsize = (8, 5))\n",
    "plt.title('Distribution of salary for Males')\n",
    "plt.ylabel('Frequency')\n",
    "plt.xlabel('Salary')\n",
    "plt.show()"
   ]
  },
  {
   "cell_type": "code",
   "execution_count": 26,
   "metadata": {},
   "outputs": [
    {
     "data": {
      "text/html": [
       "<div>\n",
       "<style scoped>\n",
       "    .dataframe tbody tr th:only-of-type {\n",
       "        vertical-align: middle;\n",
       "    }\n",
       "\n",
       "    .dataframe tbody tr th {\n",
       "        vertical-align: top;\n",
       "    }\n",
       "\n",
       "    .dataframe thead th {\n",
       "        text-align: right;\n",
       "    }\n",
       "</style>\n",
       "<table border=\"1\" class=\"dataframe\">\n",
       "  <thead>\n",
       "    <tr style=\"text-align: right;\">\n",
       "      <th></th>\n",
       "      <th>female</th>\n",
       "      <th>male</th>\n",
       "    </tr>\n",
       "  </thead>\n",
       "  <tbody>\n",
       "    <tr>\n",
       "      <th>median</th>\n",
       "      <td>25000.0</td>\n",
       "      <td>40000.0</td>\n",
       "    </tr>\n",
       "    <tr>\n",
       "      <th>min</th>\n",
       "      <td>1000.0</td>\n",
       "      <td>1000.0</td>\n",
       "    </tr>\n",
       "    <tr>\n",
       "      <th>max</th>\n",
       "      <td>400000.0</td>\n",
       "      <td>500000.0</td>\n",
       "    </tr>\n",
       "    <tr>\n",
       "      <th>25%</th>\n",
       "      <td>3000.0</td>\n",
       "      <td>7500.0</td>\n",
       "    </tr>\n",
       "    <tr>\n",
       "      <th>75%</th>\n",
       "      <td>70000.0</td>\n",
       "      <td>80000.0</td>\n",
       "    </tr>\n",
       "    <tr>\n",
       "      <th>size</th>\n",
       "      <td>1689.0</td>\n",
       "      <td>9468.0</td>\n",
       "    </tr>\n",
       "  </tbody>\n",
       "</table>\n",
       "</div>"
      ],
      "text/plain": [
       "          female      male\n",
       "median   25000.0   40000.0\n",
       "min       1000.0    1000.0\n",
       "max     400000.0  500000.0\n",
       "25%       3000.0    7500.0\n",
       "75%      70000.0   80000.0\n",
       "size      1689.0    9468.0"
      ]
     },
     "execution_count": 26,
     "metadata": {},
     "output_type": "execute_result"
    }
   ],
   "source": [
    "# Show descrptive statistics\n",
    "summary = {'female': [df_female['salary'].median(), df_female['salary'].min(), df_female['salary'].max(), df_female['salary'].describe().loc['25%'], \n",
    "                      df_female['salary'].describe().loc['75%'], df_female['salary'].count()],\n",
    "           'male': [df_male['salary'].median(), df_male['salary'].min(), df_male['salary'].max(), df_male['salary'].describe().loc['25%'],\n",
    "                    df_male['salary'].describe().loc['75%'], df_male['salary'].count()]}\n",
    "\n",
    "descriptive_stats = pd.DataFrame(summary, columns = ['female', 'male'], \n",
    "                                 index = ['median', 'min', 'max', '25%', '75%', 'size'])\n",
    "descriptive_stats"
   ]
  },
  {
   "cell_type": "markdown",
   "metadata": {},
   "source": [
    "Descriptive statistics have been computed and reported for each group as shown in the above table. I have reported the salary median, range (minimum and maximum), interquartile range (25% an 75%), and the sample size for the two groups."
   ]
  },
  {
   "cell_type": "markdown",
   "metadata": {},
   "source": [
    "### 2b) Two-sample t-test"
   ]
  },
  {
   "cell_type": "markdown",
   "metadata": {},
   "source": [
    "Since the distribution for both groups are not normal (skewed), it is not appropriate to perform a two-sample t-test because for t-test to be conducted, it needs to assume normal, bell-shaped distribution, which is not the case in with this data. I would need to bootstrap the data first."
   ]
  },
  {
   "cell_type": "markdown",
   "metadata": {},
   "source": [
    "### 2c) Boostrapping the data for comparing the mean of salary for males and females"
   ]
  },
  {
   "cell_type": "markdown",
   "metadata": {},
   "source": [
    "Convert dataframes to numpy arrays"
   ]
  },
  {
   "cell_type": "code",
   "execution_count": 27,
   "metadata": {},
   "outputs": [
    {
     "name": "stdout",
     "output_type": "stream",
     "text": [
      "[ 90000 150000  25000 ...  25000  10000   5000]\n",
      "[ 40000 300000   5000 ...   1000   2000  70000]\n"
     ]
    }
   ],
   "source": [
    "female_array= df_female['salary'].to_numpy()\n",
    "male_array= df_male['salary'].to_numpy()\n",
    "print(female_array)\n",
    "print(male_array)"
   ]
  },
  {
   "cell_type": "markdown",
   "metadata": {},
   "source": [
    "Boostrap the data with 1000 replications."
   ]
  },
  {
   "cell_type": "code",
   "execution_count": 28,
   "metadata": {},
   "outputs": [],
   "source": [
    "# Use 1000 replications.\n",
    "replications = 1000\n",
    "\n",
    "# create an initial empty list for female and male bootstrapped data.\n",
    "female_bootstrap = []\n",
    "male_bootstrap =[]\n",
    "\n",
    "# get the means for each replications and append it to the list.\n",
    "for i in range(replications):\n",
    "    female_avgerage = np.mean(female_array[np.random.randint(len(female_array),size =len(female_array))])\n",
    "    male_average = np.mean(male_array[np.random.randint(len(male_array), size=len(male_array))])\n",
    "    female_bootstrap.append(female_avgerage)\n",
    "    male_bootstrap.append(male_average)"
   ]
  },
  {
   "cell_type": "markdown",
   "metadata": {},
   "source": [
    "Plot two bootstrapped distributions for males and females. As shown below in the plots, the bootstrapped distribution now becomes normal. This normal shape supports the Central Limit Theorem, which states that the distributions of the means must be normal."
   ]
  },
  {
   "cell_type": "code",
   "execution_count": 29,
   "metadata": {},
   "outputs": [
    {
     "data": {
      "text/plain": [
       "Text(0.5, 1.0, 'Bootstrapped distributions of salary for females')"
      ]
     },
     "execution_count": 29,
     "metadata": {},
     "output_type": "execute_result"
    },
    {
     "data": {
      "image/png": "[encoded data removed]",
      "text/plain": [
       "<Figure size 432x288 with 1 Axes>"
      ]
     },
     "metadata": {
      "needs_background": "light"
     },
     "output_type": "display_data"
    }
   ],
   "source": [
    "# Plot bootstrapped distribution for females.\n",
    "plt.hist(female_bootstrap, label = 'female')\n",
    "plt.legend()\n",
    "plt.xlabel('Salary in $USD')\n",
    "plt.ylabel('Frequency')\n",
    "plt.title('Bootstrapped distributions of salary for females')"
   ]
  },
  {
   "cell_type": "code",
   "execution_count": 30,
   "metadata": {},
   "outputs": [
    {
     "data": {
      "text/plain": [
       "Text(0.5, 1.0, 'Bootstrapped distributions of salary for males')"
      ]
     },
     "execution_count": 30,
     "metadata": {},
     "output_type": "execute_result"
    },
    {
     "data": {
      "image/png": "[encoded data removed]",
      "text/plain": [
       "<Figure size 432x288 with 1 Axes>"
      ]
     },
     "metadata": {
      "needs_background": "light"
     },
     "output_type": "display_data"
    }
   ],
   "source": [
    "# Plot bootstrapped distribution for males.\n",
    "plt.hist(male_bootstrap, label = 'male')\n",
    "plt.legend()\n",
    "plt.xlabel('Salary in $USD')\n",
    "plt.ylabel('Frequency')\n",
    "plt.title('Bootstrapped distributions of salary for males')"
   ]
  },
  {
   "cell_type": "code",
   "execution_count": 31,
   "metadata": {},
   "outputs": [
    {
     "data": {
      "text/plain": [
       "Text(0.5, 1.0, 'Bootstrapped distributions of salary for males and females')"
      ]
     },
     "execution_count": 31,
     "metadata": {},
     "output_type": "execute_result"
    },
    {
     "data": {
      "image/png": "[encoded data removed]",
      "text/plain": [
       "<Figure size 432x288 with 1 Axes>"
      ]
     },
     "metadata": {
      "needs_background": "light"
     },
     "output_type": "display_data"
    }
   ],
   "source": [
    "# Plot bootstrapped distribution for both groups.\n",
    "plt.hist(female_bootstrap, label = 'female')\n",
    "plt.hist(male_bootstrap, label = 'male')\n",
    "plt.legend()\n",
    "plt.xlabel('Salary in $USD')\n",
    "plt.ylabel('Frequency')\n",
    "plt.title('Bootstrapped distributions of salary for males and females')"
   ]
  },
  {
   "cell_type": "markdown",
   "metadata": {},
   "source": [
    "Plot the distribution of the difference in means of males and females. This distribution shows a bell-shaped curve as expected from the CLT."
   ]
  },
  {
   "cell_type": "code",
   "execution_count": 32,
   "metadata": {},
   "outputs": [
    {
     "data": {
      "image/png": "[encoded data removed]",
      "text/plain": [
       "<Figure size 432x288 with 1 Axes>"
      ]
     },
     "metadata": {
      "needs_background": "light"
     },
     "output_type": "display_data"
    }
   ],
   "source": [
    "# calculate the sample size and store it in the variables n_female and n_male.\n",
    "n_female = len(female_bootstrap)\n",
    "n_male = len(male_bootstrap)\n",
    "\n",
    "# determine the difference in means between the two groups and store it in the mean_difference variable.\n",
    "female_mean = np.mean(female_bootstrap)\n",
    "male_mean = np.mean(male_bootstrap)\n",
    "mean_difference = male_mean - female_mean\n",
    "\n",
    "# determine the difference in variance between the two groups and store it in the var_difference variable.\n",
    "female_var = np.var(female_bootstrap)\n",
    "male_var = np.var(male_bootstrap)\n",
    "var_difference = male_var/n_male + female_var/n_female\n",
    "\n",
    "# Display the distribution of the difference in means between the two groups\n",
    "sd = math.sqrt(var_difference)\n",
    "x = np.linspace(mean_difference - 3*sd, mean_difference + 3*sd, 100)\n",
    "plt.plot(x, stats.norm.pdf(x, mean_difference, sd))\n",
    "plt.xlabel('Difference in means')\n",
    "plt.ylabel('Frequency')\n",
    "plt.title('Distribution of the difference in means of salary')\n",
    "plt.show()"
   ]
  },
  {
   "cell_type": "markdown",
   "metadata": {},
   "source": [
    "### 2d) Two-sample t-test for the boostrapped data"
   ]
  },
  {
   "cell_type": "markdown",
   "metadata": {},
   "source": [
    "From the Central Limit Theorem (CLT), we know that the distribution of the means are normal. As shown in the exploratory data analysis, I have compared the mean salary between males and females with various factors, and it was shown that salary between these two groups were different. To test if this difference is statistically significant, I need to perform two-sample t-test of the bootstrapped data."
   ]
  },
  {
   "cell_type": "markdown",
   "metadata": {},
   "source": [
    "In order to compute inferential statistic, we have to test for the homogeneity of variance of the two groups. I will assume that there are equal variances so that I can proceed with the two-sample t-test."
   ]
  },
  {
   "cell_type": "markdown",
   "metadata": {},
   "source": [
    "Hypothesis testing: <br>\n",
    "$H_0$: The salary of males and females of the bootstrapped data do not differ in the population. $\\mu_m = \\mu_f$ <br>\n",
    "$H_1$: The salary of males and females of the bootstrapped data differ in the population. $\\mu_m != \\mu_f$ <br>\n",
    "<br>\n",
    "Threshold = 0.05"
   ]
  },
  {
   "cell_type": "code",
   "execution_count": 33,
   "metadata": {},
   "outputs": [
    {
     "name": "stdout",
     "output_type": "stream",
     "text": [
      "t-test: t = -235.992 p = 0\n",
      "Reject null hypothesis\n"
     ]
    }
   ],
   "source": [
    "# Calculate the t-value and the p-value. If p-value is less than the threshold 0.05, we reject the null hypothesis. Else, we fail to reject the null hypothesis.\n",
    "t, p = stats.ttest_ind(female_bootstrap, male_bootstrap)\n",
    "print(\"t-test: t = %g p = %g\" % (t, p))\n",
    "\n",
    "if p < 0.05:\n",
    "    print(\"Reject null hypothesis\")\n",
    "else:\n",
    "    print(\"Fail to reject null hypothesis\")"
   ]
  },
  {
   "cell_type": "markdown",
   "metadata": {},
   "source": [
    "Since the p-value is less than 0.05, the result is statistically significant (`p-value = 0 < 0.05`). In conclusion, we reject the null hypothesis and state that the salary of males and females are different."
   ]
  },
  {
   "cell_type": "markdown",
   "metadata": {},
   "source": [
    "### 2e) Findings"
   ]
  },
  {
   "cell_type": "markdown",
   "metadata": {},
   "source": [
    "From computing the descriptive statistics, it was shown that for both groups, the frequency distribution of salary was highly skewed (the majority of people were at the lower end, and only very few people were earning high salary). Because of this imbalance, it was not suitable to perform a t-test to determine whether the salary between the two groups were statistically different due to the fact that t-test assumes normal, bell-shaped distribution. To solve this issue, bootstrapping was performed. The bootsrapped data gave us a more normal distribution of the means as expected from the Central Limit Theorem. A two-sample t-test was then performed on this bootstrapped data to compare the mean salary of the two groups and determine whether this difference is statistically significant. Since the p value was less than the threshold (0.05), it was concluded that the result is statistically significant, and males tend to earn more than females."
   ]
  },
  {
   "cell_type": "markdown",
   "metadata": {},
   "source": [
    "## 3 Estimating the difference in average salary by education"
   ]
  },
  {
   "cell_type": "markdown",
   "metadata": {},
   "source": [
    "### 3a) Descriptive statistics for each group (Bachelor's degree, Master's degree, and Doctoral degree)"
   ]
  },
  {
   "cell_type": "markdown",
   "metadata": {},
   "source": [
    "In this section, we are interested in looking at the mean salary by education. Hence, I have extracted the relevant columns 'education' and 'salary' and stored it in the dataframe variable, df_education. Then check for any missing values in these columns. We see that there are no missing values. Subsequently, I separated the data into 3 groups: \"Bachelor's degree\", \"Master's degree\", and \"Doctoral degree\" so that I can compute the descriptive statistics for each group separately."
   ]
  },
  {
   "cell_type": "code",
   "execution_count": 34,
   "metadata": {},
   "outputs": [
    {
     "data": {
      "text/html": [
       "<div>\n",
       "<style scoped>\n",
       "    .dataframe tbody tr th:only-of-type {\n",
       "        vertical-align: middle;\n",
       "    }\n",
       "\n",
       "    .dataframe tbody tr th {\n",
       "        vertical-align: top;\n",
       "    }\n",
       "\n",
       "    .dataframe thead th {\n",
       "        text-align: right;\n",
       "    }\n",
       "</style>\n",
       "<table border=\"1\" class=\"dataframe\">\n",
       "  <thead>\n",
       "    <tr style=\"text-align: right;\">\n",
       "      <th></th>\n",
       "      <th>education</th>\n",
       "      <th>salary</th>\n",
       "    </tr>\n",
       "    <tr>\n",
       "      <th>country</th>\n",
       "      <th></th>\n",
       "      <th></th>\n",
       "    </tr>\n",
       "  </thead>\n",
       "  <tbody>\n",
       "    <tr>\n",
       "      <th>France</th>\n",
       "      <td>Master’s degree</td>\n",
       "      <td>40000</td>\n",
       "    </tr>\n",
       "    <tr>\n",
       "      <th>Australia</th>\n",
       "      <td>Master’s degree</td>\n",
       "      <td>300000</td>\n",
       "    </tr>\n",
       "    <tr>\n",
       "      <th>India</th>\n",
       "      <td>Bachelor’s degree</td>\n",
       "      <td>5000</td>\n",
       "    </tr>\n",
       "    <tr>\n",
       "      <th>France</th>\n",
       "      <td>Master’s degree</td>\n",
       "      <td>70000</td>\n",
       "    </tr>\n",
       "    <tr>\n",
       "      <th>India</th>\n",
       "      <td>Master’s degree</td>\n",
       "      <td>15000</td>\n",
       "    </tr>\n",
       "  </tbody>\n",
       "</table>\n",
       "</div>"
      ],
      "text/plain": [
       "                   education  salary\n",
       "country                             \n",
       "France       Master’s degree   40000\n",
       "Australia    Master’s degree  300000\n",
       "India      Bachelor’s degree    5000\n",
       "France       Master’s degree   70000\n",
       "India        Master’s degree   15000"
      ]
     },
     "execution_count": 34,
     "metadata": {},
     "output_type": "execute_result"
    }
   ],
   "source": [
    "# Extract only the relevant columns: 'education' and 'salary'\n",
    "df_education = df[['education', 'salary']]\n",
    "df_education.head() # Display the first 5 rows."
   ]
  },
  {
   "cell_type": "code",
   "execution_count": 35,
   "metadata": {},
   "outputs": [
    {
     "name": "stdout",
     "output_type": "stream",
     "text": [
      "False\n",
      "False\n"
     ]
    }
   ],
   "source": [
    "# Check to see if there are any missing values in the 'salary' column. Since there are no missing values, there's no need to drop any values.\n",
    "print(True in df['salary'].isna())\n",
    "print(True in df['education'].isna())"
   ]
  },
  {
   "cell_type": "code",
   "execution_count": 36,
   "metadata": {},
   "outputs": [],
   "source": [
    "# Separate the data into 3 groups based on education.\n",
    "df_bachelor = df_education[df_education['education'] == 'Bachelor’s degree']\n",
    "df_master = df_education[df_education['education'] == 'Master’s degree']\n",
    "df_doctoral = df_education[df_education['education'] == 'Doctoral degree']"
   ]
  },
  {
   "cell_type": "markdown",
   "metadata": {},
   "source": [
    "Visualize the distribution with histograms of the three groups to check whether the distribution is normal shape or skewed. Again, the distribution for all three groups are not normal (positvely skewed). Therefore, it is more appropriate to report the median salary instead of the mean. <br>"
   ]
  },
  {
   "cell_type": "code",
   "execution_count": 37,
   "metadata": {},
   "outputs": [
    {
     "data": {
      "image/png": "[encoded data removed]",
      "text/plain": [
       "<Figure size 576x360 with 1 Axes>"
      ]
     },
     "metadata": {
      "needs_background": "light"
     },
     "output_type": "display_data"
    }
   ],
   "source": [
    "# Plot the distribution of salary for Bahcelor's degree\n",
    "df_bachelor.plot(kind='hist', figsize = (8, 5))\n",
    "plt.title('Distribution of salary for Bachelor’s degree')\n",
    "plt.ylabel('Frequency')\n",
    "plt.xlabel('Salary')\n",
    "plt.show()"
   ]
  },
  {
   "cell_type": "code",
   "execution_count": 38,
   "metadata": {},
   "outputs": [
    {
     "data": {
      "image/png": "[encoded data removed]",
      "text/plain": [
       "<Figure size 576x360 with 1 Axes>"
      ]
     },
     "metadata": {
      "needs_background": "light"
     },
     "output_type": "display_data"
    }
   ],
   "source": [
    "# Plot the distribution of salary for Master's degree\n",
    "df_master.plot(kind='hist', figsize = (8, 5))\n",
    "plt.title('Distribution of salary for Master’s degree')\n",
    "plt.ylabel('Frequency')\n",
    "plt.xlabel('Salary')\n",
    "plt.show()"
   ]
  },
  {
   "cell_type": "code",
   "execution_count": 39,
   "metadata": {},
   "outputs": [
    {
     "data": {
      "image/png": "[encoded data removed]",
      "text/plain": [
       "<Figure size 576x360 with 1 Axes>"
      ]
     },
     "metadata": {
      "needs_background": "light"
     },
     "output_type": "display_data"
    }
   ],
   "source": [
    "# Plot the distribution of salary for Doctoral degree\n",
    "df_doctoral.plot(kind='hist', figsize = (8, 5))\n",
    "plt.title('Distribution of salary for Doctoral degree')\n",
    "plt.ylabel('Frequency')\n",
    "plt.xlabel('Salary')\n",
    "plt.show()"
   ]
  },
  {
   "cell_type": "markdown",
   "metadata": {},
   "source": [
    "For descriptive statistics, I have reported the salary median, range (minimum and maximum), interquartile range (25%, 75%), and the sample size."
   ]
  },
  {
   "cell_type": "code",
   "execution_count": 40,
   "metadata": {},
   "outputs": [
    {
     "data": {
      "text/html": [
       "<div>\n",
       "<style scoped>\n",
       "    .dataframe tbody tr th:only-of-type {\n",
       "        vertical-align: middle;\n",
       "    }\n",
       "\n",
       "    .dataframe tbody tr th {\n",
       "        vertical-align: top;\n",
       "    }\n",
       "\n",
       "    .dataframe thead th {\n",
       "        text-align: right;\n",
       "    }\n",
       "</style>\n",
       "<table border=\"1\" class=\"dataframe\">\n",
       "  <thead>\n",
       "    <tr style=\"text-align: right;\">\n",
       "      <th></th>\n",
       "      <th>Bachelor</th>\n",
       "      <th>Master</th>\n",
       "      <th>Doctoral</th>\n",
       "    </tr>\n",
       "  </thead>\n",
       "  <tbody>\n",
       "    <tr>\n",
       "      <th>median</th>\n",
       "      <td>15000.0</td>\n",
       "      <td>40000.0</td>\n",
       "      <td>60000.0</td>\n",
       "    </tr>\n",
       "    <tr>\n",
       "      <th>min</th>\n",
       "      <td>1000.0</td>\n",
       "      <td>1000.0</td>\n",
       "      <td>1000.0</td>\n",
       "    </tr>\n",
       "    <tr>\n",
       "      <th>max</th>\n",
       "      <td>500000.0</td>\n",
       "      <td>500000.0</td>\n",
       "      <td>500000.0</td>\n",
       "    </tr>\n",
       "    <tr>\n",
       "      <th>25%</th>\n",
       "      <td>4000.0</td>\n",
       "      <td>7500.0</td>\n",
       "      <td>15000.0</td>\n",
       "    </tr>\n",
       "    <tr>\n",
       "      <th>75%</th>\n",
       "      <td>60000.0</td>\n",
       "      <td>80000.0</td>\n",
       "      <td>100000.0</td>\n",
       "    </tr>\n",
       "    <tr>\n",
       "      <th>size</th>\n",
       "      <td>3321.0</td>\n",
       "      <td>5794.0</td>\n",
       "      <td>2042.0</td>\n",
       "    </tr>\n",
       "  </tbody>\n",
       "</table>\n",
       "</div>"
      ],
      "text/plain": [
       "        Bachelor    Master  Doctoral\n",
       "median   15000.0   40000.0   60000.0\n",
       "min       1000.0    1000.0    1000.0\n",
       "max     500000.0  500000.0  500000.0\n",
       "25%       4000.0    7500.0   15000.0\n",
       "75%      60000.0   80000.0  100000.0\n",
       "size      3321.0    5794.0    2042.0"
      ]
     },
     "execution_count": 40,
     "metadata": {},
     "output_type": "execute_result"
    }
   ],
   "source": [
    "# Display the descriptive stastistics table.\n",
    "summary = {'Bachelor': [df_bachelor['salary'].median(), df_bachelor['salary'].min(), df_bachelor['salary'].max(), df_bachelor['salary'].describe().loc['25%'], \n",
    "                        df_bachelor['salary'].describe().loc['75%'], df_bachelor['salary'].count()],\n",
    "           'Master': [df_master['salary'].median(), df_master['salary'].min(), df_master['salary'].max(), df_master['salary'].describe().loc['25%'], \n",
    "                      df_master['salary'].describe().loc['75%'], df_master['salary'].count()],\n",
    "           'Doctoral': [df_doctoral['salary'].median(), df_doctoral['salary'].min(), df_doctoral['salary'].max(), df_doctoral['salary'].describe().loc['25%'],\n",
    "                        df_doctoral['salary'].describe().loc['75%'], df_doctoral['salary'].count()]}\n",
    "\n",
    "descriptive_stats = pd.DataFrame(summary, columns = ['Bachelor', 'Master', 'Doctoral'], \n",
    "                                 index = ['median', 'min', 'max', '25%', '75%', 'size'])\n",
    "descriptive_stats"
   ]
  },
  {
   "cell_type": "markdown",
   "metadata": {},
   "source": [
    "Descriptive statistics, specifically the median, range (minimum to maximum), interquartile range (from 25% to 75%), and the sample size of each three groups are presented in the above table."
   ]
  },
  {
   "cell_type": "markdown",
   "metadata": {},
   "source": [
    "### 3b) ANOVA"
   ]
  },
  {
   "cell_type": "markdown",
   "metadata": {},
   "source": [
    "In order to compute ANOVA, the distribution must be normal. It clear from the histograms that the distribution is skewed. Therefore, it is more suitable to conduct ANOVA. It is more appropriate to bootstrap the data first to make a more symmetrical distribution in the means."
   ]
  },
  {
   "cell_type": "markdown",
   "metadata": {},
   "source": [
    "### 3c) Boostrapping the data for comparing the mean of salary by education"
   ]
  },
  {
   "cell_type": "markdown",
   "metadata": {},
   "source": [
    "Convert dataframes to numpy arrays"
   ]
  },
  {
   "cell_type": "code",
   "execution_count": 41,
   "metadata": {},
   "outputs": [],
   "source": [
    "# Convert to numpy array and store the values in a variable called bachelor, master, and doctoral.\n",
    "bachelor_array = df_bachelor['salary'].to_numpy()\n",
    "master_array = df_master['salary'].to_numpy()\n",
    "doctoral_array = df_doctoral['salary'].to_numpy()"
   ]
  },
  {
   "cell_type": "markdown",
   "metadata": {},
   "source": [
    "Boostrap the data"
   ]
  },
  {
   "cell_type": "code",
   "execution_count": 42,
   "metadata": {},
   "outputs": [],
   "source": [
    "# Use 1000 replications.\n",
    "replications = 1000\n",
    "\n",
    "# create an initial empty list for the bootstrap data.\n",
    "bachelor_bootstrap = []\n",
    "master_bootstrap = []\n",
    "doctoral_bootstrap = []\n",
    "\n",
    "# get the means for each replications and append it to the list.\n",
    "for i in range(replications):\n",
    "    bachelor_avgerage = np.mean(bachelor_array[np.random.randint(len(bachelor_array),size =len(bachelor_array))])\n",
    "    master_average = np.mean(master_array[np.random.randint(len(master_array), size=len(master_array))])\n",
    "    doctoral_average = np.mean(doctoral_array[np.random.randint(len(doctoral_array), size=len(doctoral_array))])\n",
    "    bachelor_bootstrap.append(bachelor_avgerage)\n",
    "    master_bootstrap.append(master_average)\n",
    "    doctoral_bootstrap.append(doctoral_average)"
   ]
  },
  {
   "cell_type": "markdown",
   "metadata": {},
   "source": [
    "Plot three separate bootstrapped distributions for three groups. As visualized in the plots below, the bootstrapped distributions for all three groups have normal shape."
   ]
  },
  {
   "cell_type": "code",
   "execution_count": 43,
   "metadata": {},
   "outputs": [
    {
     "data": {
      "text/plain": [
       "Text(0.5, 1.0, \"Bootstrapped distributions of salary for Bachelor's degree\")"
      ]
     },
     "execution_count": 43,
     "metadata": {},
     "output_type": "execute_result"
    },
    {
     "data": {
      "image/png": "[encoded data removed]",
      "text/plain": [
       "<Figure size 432x288 with 1 Axes>"
      ]
     },
     "metadata": {
      "needs_background": "light"
     },
     "output_type": "display_data"
    }
   ],
   "source": [
    "# Display the bootstrapped distribution for Bachelor's degree\n",
    "plt.hist(bachelor_bootstrap, label = \"Bachelor's degree\")\n",
    "plt.legend()\n",
    "plt.xlabel('Salary in $USD')\n",
    "plt.ylabel('Frequency')\n",
    "plt.title(\"Bootstrapped distributions of salary for Bachelor's degree\")"
   ]
  },
  {
   "cell_type": "code",
   "execution_count": 44,
   "metadata": {},
   "outputs": [
    {
     "data": {
      "text/plain": [
       "Text(0.5, 1.0, \"Bootstrapped distributions of salary for Master's degree\")"
      ]
     },
     "execution_count": 44,
     "metadata": {},
     "output_type": "execute_result"
    },
    {
     "data": {
      "image/png": "[encoded data removed]",
      "text/plain": [
       "<Figure size 432x288 with 1 Axes>"
      ]
     },
     "metadata": {
      "needs_background": "light"
     },
     "output_type": "display_data"
    }
   ],
   "source": [
    "# Display the bootstrapped distribution for Master's degree\n",
    "plt.hist(master_bootstrap, label = \"Master's degree\")\n",
    "plt.legend()\n",
    "plt.xlabel('Salary in $USD')\n",
    "plt.ylabel('Frequency')\n",
    "plt.title(\"Bootstrapped distributions of salary for Master's degree\")"
   ]
  },
  {
   "cell_type": "code",
   "execution_count": 45,
   "metadata": {},
   "outputs": [
    {
     "data": {
      "text/plain": [
       "Text(0.5, 1.0, 'Bootstrapped distributions of salary for Doctoral degree')"
      ]
     },
     "execution_count": 45,
     "metadata": {},
     "output_type": "execute_result"
    },
    {
     "data": {
      "image/png": "[encoded data removed]",
      "text/plain": [
       "<Figure size 432x288 with 1 Axes>"
      ]
     },
     "metadata": {
      "needs_background": "light"
     },
     "output_type": "display_data"
    }
   ],
   "source": [
    "# Display the bootstrapped distribution for Doctoral degree\n",
    "plt.hist(doctoral_bootstrap, label = \"Doctoral degree\")\n",
    "plt.legend()\n",
    "plt.xlabel('Salary in $USD')\n",
    "plt.ylabel('Frequency')\n",
    "plt.title(\"Bootstrapped distributions of salary for Doctoral degree\")"
   ]
  },
  {
   "cell_type": "code",
   "execution_count": 52,
   "metadata": {},
   "outputs": [
    {
     "data": {
      "text/plain": [
       "Text(0.5, 1.0, 'Bootstrapped distributions of Salary based on Education')"
      ]
     },
     "execution_count": 52,
     "metadata": {},
     "output_type": "execute_result"
    },
    {
     "data": {
      "image/png": "[encoded data removed]",
      "text/plain": [
       "<Figure size 432x288 with 1 Axes>"
      ]
     },
     "metadata": {
      "needs_background": "light"
     },
     "output_type": "display_data"
    }
   ],
   "source": [
    "# Display the bootstrapped distribution for all three degrees\n",
    "plt.hist(bachelor_bootstrap,label = \"Bachelor's degree\")\n",
    "plt.hist(master_bootstrap, label = \"Master's degree\")\n",
    "plt.hist(doctoral_bootstrap,label = \"Doctoral degree\")\n",
    "plt.legend()\n",
    "plt.xlabel('Salary in $USD')\n",
    "plt.ylabel('Frequency')\n",
    "plt.title('Bootstrapped distributions of Salary based on Education')"
   ]
  },
  {
   "cell_type": "markdown",
   "metadata": {},
   "source": [
    "Plotting the distribution of the difference in means between the three groups."
   ]
  },
  {
   "cell_type": "code",
   "execution_count": 47,
   "metadata": {},
   "outputs": [],
   "source": [
    "# determine the sample size for each group\n",
    "n_bachelor = len(bachelor_bootstrap)\n",
    "n_master = len(master_bootstrap)\n",
    "n_doctoral = len(doctoral_bootstrap)\n",
    "\n",
    "# determine the difference in means\n",
    "bachelor_mean = np.mean(bachelor_bootstrap)\n",
    "master_mean = np.mean(master_bootstrap)\n",
    "doctoral_mean = np.mean(doctoral_bootstrap)\n",
    "mean_diff1 = bachelor_mean - master_mean\n",
    "mean_diff2 = bachelor_mean - doctoral_mean\n",
    "mean_diff3 = master_mean - doctoral_mean\n",
    "\n",
    "# determine the variance\n",
    "bachelor_var = np.var(bachelor_bootstrap)\n",
    "master_var = np.var(master_bootstrap)\n",
    "doctoral_var = np.var(doctoral_bootstrap)"
   ]
  },
  {
   "cell_type": "code",
   "execution_count": 48,
   "metadata": {},
   "outputs": [
    {
     "data": {
      "image/png": "[encoded data removed]",
      "text/plain": [
       "<Figure size 432x288 with 1 Axes>"
      ]
     },
     "metadata": {
      "needs_background": "light"
     },
     "output_type": "display_data"
    }
   ],
   "source": [
    "# Plot the distribution of difference in means between Bachelor's and Master's degree\n",
    "var_diff1 = bachelor_var/n_bachelor + master_var/n_master\n",
    "mean1 = mean_diff1\n",
    "sd1 = math.sqrt(var_diff1)\n",
    "\n",
    "x1 = np.linspace(mean1 - 3*sd1, mean1 + 3*sd1, 100)\n",
    "plt.plot(x1, stats.norm.pdf(x1, mean1, sd1))\n",
    "plt.xlabel(\"Difference in salary means\")\n",
    "plt.title(\"Distribution of the difference in salary means between Bachelor's and Master's degree\")\n",
    "plt.show()"
   ]
  },
  {
   "cell_type": "code",
   "execution_count": 49,
   "metadata": {},
   "outputs": [
    {
     "data": {
      "image/png": "[encoded data removed]",
      "text/plain": [
       "<Figure size 432x288 with 1 Axes>"
      ]
     },
     "metadata": {
      "needs_background": "light"
     },
     "output_type": "display_data"
    }
   ],
   "source": [
    "# Plot the distribution of difference in means between Bachelor's and Doctoral degree\n",
    "var_diff2 = bachelor_var/n_bachelor + doctoral_var/n_doctoral\n",
    "mean2 = mean_diff2\n",
    "sd2 = math.sqrt(var_diff2)\n",
    "\n",
    "x2 = np.linspace(mean2 - 3*sd2, mean2 + 3*sd2, 100)\n",
    "plt.plot(x2, stats.norm.pdf(x2, mean2, sd2))\n",
    "plt.xlabel(\"Difference in salary means\")\n",
    "plt.title(\"Distribution of the difference in salary means between Bachelor's and Doctoral degree\")\n",
    "plt.show()"
   ]
  },
  {
   "cell_type": "code",
   "execution_count": 50,
   "metadata": {},
   "outputs": [
    {
     "data": {
      "image/png": "[encoded data removed]",
      "text/plain": [
       "<Figure size 432x288 with 1 Axes>"
      ]
     },
     "metadata": {
      "needs_background": "light"
     },
     "output_type": "display_data"
    }
   ],
   "source": [
    "# Plot the distribution of difference in means between Master's and Doctoral degree\n",
    "var_diff3 = master_var/n_master + doctoral_var/n_doctoral\n",
    "mean3 = mean_diff3\n",
    "sd3 = math.sqrt(var_diff3)\n",
    "\n",
    "x3 = np.linspace(mean3 - 3*sd3, mean3 + 3*sd3, 100)\n",
    "plt.plot(x3, stats.norm.pdf(x3, mean3, sd3))\n",
    "plt.xlabel(\"Difference in salary means\")\n",
    "plt.title(\"Distribution of the difference in salary means between Master's and Doctoral degree\")\n",
    "plt.show()"
   ]
  },
  {
   "cell_type": "markdown",
   "metadata": {},
   "source": [
    "### 2d) ANOVA for the boostrapped data"
   ]
  },
  {
   "cell_type": "markdown",
   "metadata": {},
   "source": [
    "To test if there is a statistically significant difference between the three groups, ANOVA was performed. In order to compute ANOVA, we have to make several assumptions:\n",
    "1) The samples are independent. <br>\n",
    "2) Either the distribution is normal or the sample size is larger than 30. <br>\n",
    "3) Homogeneity of variance of the three groups are equal for the population (i.e. variances are equal). <br>\n",
    "\n",
    "I will assume that all three above conditions have been met."
   ]
  },
  {
   "cell_type": "markdown",
   "metadata": {},
   "source": [
    "Hypothesis testing: <br>\n",
    "$H_0$: The mean salary corresponding to the three groups (Bachelor's Master's, and Doctoral Degrees) of the bootstrapped data do not differ in the population. <br>\n",
    "$H_1$: The mean salary corresponding to at least one of the three groups (Bachelor's Master's, and Doctoral Degrees) of the bootstrapped data differ in the population. <br>\n",
    "<br>\n",
    "Threshold = 0.05"
   ]
  },
  {
   "cell_type": "code",
   "execution_count": 51,
   "metadata": {},
   "outputs": [
    {
     "name": "stdout",
     "output_type": "stream",
     "text": [
      "F-test: F = 128936 p = 0\n",
      "Reject null hypothesis\n"
     ]
    }
   ],
   "source": [
    "# Compute the sum of sample sizes for the three groups to get the total sample size, N.\n",
    "N = len(bachelor_bootstrap)+len(master_bootstrap)+len(doctoral_bootstrap)\n",
    "\n",
    "## There are three groups, so k is 3\n",
    "k = 3\n",
    "\n",
    "# Calculate degrees of freedom between and within\n",
    "df_btwn = k-1\n",
    "df_witn = N-k\n",
    "\n",
    "# Calculate the sum of squared errors, SSE\n",
    "SSE = np.sum((bachelor_bootstrap-np.mean(bachelor_bootstrap))**2)+np.sum((master_bootstrap-np.mean(master_bootstrap))**2)+np.sum((doctoral_bootstrap-np.mean(doctoral_bootstrap))**2)\n",
    "\n",
    "# Combine the bootstrapped data for all three groups\n",
    "data = bachelor_bootstrap + master_bootstrap + doctoral_bootstrap\n",
    "\n",
    "# Calculate the sum of squares total, SS_total\n",
    "SS_total = np.sum((data - np.mean(data))**2)\n",
    "\n",
    "# Calculate the regression sum of squares, SSR\n",
    "SSR = SS_total - SSE\n",
    "\n",
    "# Calculate the F and p value\n",
    "F, p = stats.f_oneway(bachelor_bootstrap, master_bootstrap, doctoral_bootstrap)\n",
    "print(\"F-test: F = %g p = %g\" % (F, p))\n",
    "\n",
    "if p < 0.05:\n",
    "    print(\"Reject null hypothesis\")\n",
    "else:\n",
    "    print(\"Fail to reject null hypothesis\")"
   ]
  },
  {
   "cell_type": "markdown",
   "metadata": {},
   "source": [
    "Since the p-value is less than 0.05, the result is statistically significant (`p-value = 0 < 0.05`). In conclusion, we reject the null hypothesis and state that the mean of salary for the three groups (Bachelor's degree, Master's degree, and Doctoral degree) are different."
   ]
  },
  {
   "cell_type": "markdown",
   "metadata": {},
   "source": [
    "### 3e) Findings"
   ]
  },
  {
   "cell_type": "markdown",
   "metadata": {},
   "source": [
    "It was evident that the frequency distribution of salary was highly skewed for all three groups from the descriptive statistics. Because of this imbalance, bootstrapping was performed where we determined the means and plotted the distribution of means. As expected, the distribution of the bootstrapped data turned out to be normal. An ANOVA was then performed on this bootstrapped data to compare the mean salary of the three groups and to determine whether this difference was statistically significant. Since the p value was less than the threshold (0.05), it was concluded that the result is statistically significant, and therefore, education level does have an effect on salary."
   ]
  },
  {
   "cell_type": "code",
   "execution_count": null,
   "metadata": {},
   "outputs": [],
   "source": []
  }
 ],
 "metadata": {
  "kernelspec": {
   "display_name": "Python 3",
   "language": "python",
   "name": "python3"
  },
  "language_info": {
   "codemirror_mode": {
    "name": "ipython",
    "version": 3
   },
   "file_extension": ".py",
   "mimetype": "text/x-python",
   "name": "python",
   "nbconvert_exporter": "python",
   "pygments_lexer": "ipython3",
   "version": "3.7.6"
  }
 },
 "nbformat": 4,
 "nbformat_minor": 4
}
